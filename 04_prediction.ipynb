{
 "cells": [
  {
   "cell_type": "code",
   "execution_count": 21,
   "metadata": {},
   "outputs": [],
   "source": [
    "# Step 1: Import Libraries and Load the Model\n",
    "import numpy as np\n",
    "import tensorflow as tf\n",
    "from tensorflow.keras.datasets import imdb\n",
    "from tensorflow.keras.preprocessing import sequence\n",
    "from tensorflow.keras.models import load_model"
   ]
  },
  {
   "cell_type": "code",
   "execution_count": 22,
   "metadata": {},
   "outputs": [],
   "source": [
    "\n",
    "# Load the IMDB dataset word index\n",
    "word_index = imdb.get_word_index()\n",
    "reverse_word_index = {value: key for key, value in word_index.items()}"
   ]
  },
  {
   "cell_type": "code",
   "execution_count": 31,
   "metadata": {},
   "outputs": [
    {
     "name": "stderr",
     "output_type": "stream",
     "text": [
      "WARNING:absl:Compiled the loaded model, but the compiled metrics have yet to be built. `model.compile_metrics` will be empty until you train or evaluate the model.\n"
     ]
    },
    {
     "data": {
      "text/html": [
       "<pre style=\"white-space:pre;overflow-x:auto;line-height:normal;font-family:Menlo,'DejaVu Sans Mono',consolas,'Courier New',monospace\"><span style=\"font-weight: bold\">Model: \"sequential_2\"</span>\n",
       "</pre>\n"
      ],
      "text/plain": [
       "\u001b[1mModel: \"sequential_2\"\u001b[0m\n"
      ]
     },
     "metadata": {},
     "output_type": "display_data"
    },
    {
     "data": {
      "text/html": [
       "<pre style=\"white-space:pre;overflow-x:auto;line-height:normal;font-family:Menlo,'DejaVu Sans Mono',consolas,'Courier New',monospace\">┏━━━━━━━━━━━━━━━━━━━━━━━━━━━━━━━━━┳━━━━━━━━━━━━━━━━━━━━━━━━┳━━━━━━━━━━━━━━━┓\n",
       "┃<span style=\"font-weight: bold\"> Layer (type)                    </span>┃<span style=\"font-weight: bold\"> Output Shape           </span>┃<span style=\"font-weight: bold\">       Param # </span>┃\n",
       "┡━━━━━━━━━━━━━━━━━━━━━━━━━━━━━━━━━╇━━━━━━━━━━━━━━━━━━━━━━━━╇━━━━━━━━━━━━━━━┩\n",
       "│ embedding_2 (<span style=\"color: #0087ff; text-decoration-color: #0087ff\">Embedding</span>)         │ (<span style=\"color: #00d7ff; text-decoration-color: #00d7ff\">None</span>, <span style=\"color: #00af00; text-decoration-color: #00af00\">500</span>, <span style=\"color: #00af00; text-decoration-color: #00af00\">128</span>)       │     <span style=\"color: #00af00; text-decoration-color: #00af00\">1,280,000</span> │\n",
       "├─────────────────────────────────┼────────────────────────┼───────────────┤\n",
       "│ simple_rnn_2 (<span style=\"color: #0087ff; text-decoration-color: #0087ff\">SimpleRNN</span>)        │ (<span style=\"color: #00d7ff; text-decoration-color: #00d7ff\">None</span>, <span style=\"color: #00af00; text-decoration-color: #00af00\">128</span>)            │        <span style=\"color: #00af00; text-decoration-color: #00af00\">32,896</span> │\n",
       "├─────────────────────────────────┼────────────────────────┼───────────────┤\n",
       "│ dense_2 (<span style=\"color: #0087ff; text-decoration-color: #0087ff\">Dense</span>)                 │ (<span style=\"color: #00d7ff; text-decoration-color: #00d7ff\">None</span>, <span style=\"color: #00af00; text-decoration-color: #00af00\">1</span>)              │           <span style=\"color: #00af00; text-decoration-color: #00af00\">129</span> │\n",
       "└─────────────────────────────────┴────────────────────────┴───────────────┘\n",
       "</pre>\n"
      ],
      "text/plain": [
       "┏━━━━━━━━━━━━━━━━━━━━━━━━━━━━━━━━━┳━━━━━━━━━━━━━━━━━━━━━━━━┳━━━━━━━━━━━━━━━┓\n",
       "┃\u001b[1m \u001b[0m\u001b[1mLayer (type)                   \u001b[0m\u001b[1m \u001b[0m┃\u001b[1m \u001b[0m\u001b[1mOutput Shape          \u001b[0m\u001b[1m \u001b[0m┃\u001b[1m \u001b[0m\u001b[1m      Param #\u001b[0m\u001b[1m \u001b[0m┃\n",
       "┡━━━━━━━━━━━━━━━━━━━━━━━━━━━━━━━━━╇━━━━━━━━━━━━━━━━━━━━━━━━╇━━━━━━━━━━━━━━━┩\n",
       "│ embedding_2 (\u001b[38;5;33mEmbedding\u001b[0m)         │ (\u001b[38;5;45mNone\u001b[0m, \u001b[38;5;34m500\u001b[0m, \u001b[38;5;34m128\u001b[0m)       │     \u001b[38;5;34m1,280,000\u001b[0m │\n",
       "├─────────────────────────────────┼────────────────────────┼───────────────┤\n",
       "│ simple_rnn_2 (\u001b[38;5;33mSimpleRNN\u001b[0m)        │ (\u001b[38;5;45mNone\u001b[0m, \u001b[38;5;34m128\u001b[0m)            │        \u001b[38;5;34m32,896\u001b[0m │\n",
       "├─────────────────────────────────┼────────────────────────┼───────────────┤\n",
       "│ dense_2 (\u001b[38;5;33mDense\u001b[0m)                 │ (\u001b[38;5;45mNone\u001b[0m, \u001b[38;5;34m1\u001b[0m)              │           \u001b[38;5;34m129\u001b[0m │\n",
       "└─────────────────────────────────┴────────────────────────┴───────────────┘\n"
      ]
     },
     "metadata": {},
     "output_type": "display_data"
    },
    {
     "data": {
      "text/html": [
       "<pre style=\"white-space:pre;overflow-x:auto;line-height:normal;font-family:Menlo,'DejaVu Sans Mono',consolas,'Courier New',monospace\"><span style=\"font-weight: bold\"> Total params: </span><span style=\"color: #00af00; text-decoration-color: #00af00\">1,313,027</span> (5.01 MB)\n",
       "</pre>\n"
      ],
      "text/plain": [
       "\u001b[1m Total params: \u001b[0m\u001b[38;5;34m1,313,027\u001b[0m (5.01 MB)\n"
      ]
     },
     "metadata": {},
     "output_type": "display_data"
    },
    {
     "data": {
      "text/html": [
       "<pre style=\"white-space:pre;overflow-x:auto;line-height:normal;font-family:Menlo,'DejaVu Sans Mono',consolas,'Courier New',monospace\"><span style=\"font-weight: bold\"> Trainable params: </span><span style=\"color: #00af00; text-decoration-color: #00af00\">1,313,025</span> (5.01 MB)\n",
       "</pre>\n"
      ],
      "text/plain": [
       "\u001b[1m Trainable params: \u001b[0m\u001b[38;5;34m1,313,025\u001b[0m (5.01 MB)\n"
      ]
     },
     "metadata": {},
     "output_type": "display_data"
    },
    {
     "data": {
      "text/html": [
       "<pre style=\"white-space:pre;overflow-x:auto;line-height:normal;font-family:Menlo,'DejaVu Sans Mono',consolas,'Courier New',monospace\"><span style=\"font-weight: bold\"> Non-trainable params: </span><span style=\"color: #00af00; text-decoration-color: #00af00\">0</span> (0.00 B)\n",
       "</pre>\n"
      ],
      "text/plain": [
       "\u001b[1m Non-trainable params: \u001b[0m\u001b[38;5;34m0\u001b[0m (0.00 B)\n"
      ]
     },
     "metadata": {},
     "output_type": "display_data"
    },
    {
     "data": {
      "text/html": [
       "<pre style=\"white-space:pre;overflow-x:auto;line-height:normal;font-family:Menlo,'DejaVu Sans Mono',consolas,'Courier New',monospace\"><span style=\"font-weight: bold\"> Optimizer params: </span><span style=\"color: #00af00; text-decoration-color: #00af00\">2</span> (12.00 B)\n",
       "</pre>\n"
      ],
      "text/plain": [
       "\u001b[1m Optimizer params: \u001b[0m\u001b[38;5;34m2\u001b[0m (12.00 B)\n"
      ]
     },
     "metadata": {},
     "output_type": "display_data"
    }
   ],
   "source": [
    "# Load the pre-trained model with ReLU activation\n",
    "model = load_model('03_simple_rnn_imdb.h5')\n",
    "model.summary()"
   ]
  },
  {
   "cell_type": "code",
   "execution_count": 32,
   "metadata": {},
   "outputs": [
    {
     "data": {
      "text/plain": [
       "[array([[-1.2465138 , -0.7452462 , -0.5515956 , ..., -0.7752172 ,\n",
       "          0.74682593,  0.74335396],\n",
       "        [-0.19848722, -0.0449513 ,  0.00998342, ..., -0.02235899,\n",
       "         -0.01118156,  0.08011051],\n",
       "        [-0.09299778, -0.00249729,  0.03790399, ...,  0.02612923,\n",
       "         -0.01652454,  0.01404824],\n",
       "        ...,\n",
       "        [ 0.02765862, -0.05065969,  0.02292914, ..., -0.04813407,\n",
       "          0.05066681,  0.04369831],\n",
       "        [ 0.00785946,  0.05084305,  0.06152217, ...,  0.07058642,\n",
       "         -0.0694306 ,  0.0101243 ],\n",
       "        [ 0.07268876,  0.12909335,  0.09413687, ..., -0.00962543,\n",
       "         -0.07186428, -0.01518825]], dtype=float32),\n",
       " array([[-0.17584923,  0.0334296 , -0.00933888, ..., -0.05121324,\n",
       "          0.07977968,  0.02165153],\n",
       "        [ 0.08385609, -0.18376678,  0.01197965, ...,  0.11466338,\n",
       "          0.05710072, -0.11095969],\n",
       "        [ 0.14080605,  0.14226961, -0.16561577, ..., -0.05494643,\n",
       "         -0.0245494 ,  0.11437882],\n",
       "        ...,\n",
       "        [ 0.0614943 , -0.05297027,  0.04273332, ...,  0.09593542,\n",
       "          0.04511829, -0.08254412],\n",
       "        [ 0.00415771,  0.07091203,  0.03556304, ...,  0.0113108 ,\n",
       "         -0.12774023, -0.03650234],\n",
       "        [ 0.10723647, -0.04061106,  0.14729571, ...,  0.14252874,\n",
       "         -0.10043561, -0.11374691]], dtype=float32),\n",
       " array([[ 0.01856104,  0.00848407, -0.02220232, ..., -0.08780468,\n",
       "         -0.09307928,  0.02379396],\n",
       "        [ 0.0126632 ,  0.19467077,  0.0348068 , ..., -0.07180276,\n",
       "         -0.0413007 ,  0.17620826],\n",
       "        [-0.05214866, -0.08409244,  0.08148871, ...,  0.16929322,\n",
       "          0.18989441, -0.11397384],\n",
       "        ...,\n",
       "        [ 0.06107801,  0.20342772, -0.07597833, ...,  0.13387188,\n",
       "          0.06462152,  0.01545553],\n",
       "        [ 0.0148948 , -0.18793957, -0.04718342, ...,  0.13762873,\n",
       "          0.01142579,  0.07654887],\n",
       "        [ 0.19440714, -0.13126674, -0.07317895, ..., -0.02491998,\n",
       "          0.0331904 , -0.19045857]], dtype=float32),\n",
       " array([-3.39088701e-02,  2.63281446e-03,  3.30223795e-03,  9.90687683e-03,\n",
       "        -3.98016162e-03,  2.13725343e-02, -1.18205305e-02,  2.71295998e-02,\n",
       "         1.13735646e-02,  1.02441674e-02, -1.69986375e-02,  1.08366343e-03,\n",
       "        -2.64786091e-03,  1.38980094e-02,  2.01273076e-02,  2.05753092e-02,\n",
       "        -1.35813691e-02, -1.11492267e-02,  3.29523347e-02,  1.65368337e-02,\n",
       "        -3.20480647e-03,  8.46751593e-03,  1.05454335e-02, -7.58982962e-03,\n",
       "        -5.59024280e-03,  1.08722746e-02,  1.68103464e-02,  1.05864713e-02,\n",
       "        -1.40157286e-02,  2.92502772e-02, -1.61830876e-02, -1.25615681e-02,\n",
       "        -2.45990213e-02,  9.98861738e-04, -9.81453434e-03, -4.01586965e-02,\n",
       "         1.29896570e-02, -1.79048572e-02,  7.48373626e-04,  2.02720109e-02,\n",
       "        -9.28060804e-03,  1.50550315e-02, -9.61802900e-03, -1.00297714e-02,\n",
       "        -1.28198117e-02, -1.24807600e-02,  2.05177441e-02,  1.19182579e-02,\n",
       "        -1.31184021e-02,  1.74856838e-02,  1.13749113e-04,  1.19241956e-03,\n",
       "         1.63302347e-02, -2.08401773e-02,  4.56961477e-03, -2.48831958e-02,\n",
       "        -2.77515631e-02, -1.75872296e-02, -3.12806107e-02, -1.12643903e-02,\n",
       "         2.04898641e-02,  8.55695549e-03, -1.61872134e-02,  2.61547193e-02,\n",
       "        -1.56221027e-02,  1.37057127e-02,  2.53695939e-02,  1.26772569e-02,\n",
       "        -2.63693780e-02, -2.07216162e-02,  2.24981252e-02, -3.01922970e-02,\n",
       "        -1.95427258e-02, -1.50280977e-02, -8.15206580e-03, -1.76214483e-02,\n",
       "         2.16297358e-02, -2.17649937e-02,  1.61684360e-02,  1.10508744e-02,\n",
       "         6.23526890e-03,  1.51915532e-02,  1.00601641e-02,  2.10840125e-02,\n",
       "         2.39786413e-02, -1.30931409e-02,  9.71042828e-05,  1.72286443e-02,\n",
       "        -1.84632652e-02,  1.80493072e-02,  8.51693284e-03,  1.85657144e-02,\n",
       "        -2.34422125e-02, -3.06669082e-02,  1.97236780e-02, -5.04338089e-03,\n",
       "        -3.17991339e-02,  1.39320884e-02,  8.31996277e-03,  8.74525588e-03,\n",
       "        -1.79403760e-02, -6.70931721e-03,  2.83581074e-02,  9.11380164e-03,\n",
       "        -7.62427598e-03, -7.88094848e-03, -2.16486100e-02, -2.24575028e-02,\n",
       "        -1.83407124e-02,  4.41196375e-03,  9.16585047e-03,  2.00886168e-02,\n",
       "         2.12946720e-02, -1.51766147e-02, -1.39345666e-02, -8.09224974e-03,\n",
       "         1.23251639e-02,  1.03200646e-02,  1.43501936e-02, -3.42975720e-03,\n",
       "         1.97062958e-02, -1.25261433e-02,  2.74666809e-02, -1.48881264e-02,\n",
       "        -2.02336237e-02,  7.80372007e-04, -5.42428438e-03,  1.47051737e-02],\n",
       "       dtype=float32),\n",
       " array([[ 1.50133997e-01],\n",
       "        [-8.04198861e-01],\n",
       "        [-7.13503137e-02],\n",
       "        [ 7.07320049e-02],\n",
       "        [-6.17907243e-03],\n",
       "        [ 2.72725880e-01],\n",
       "        [-1.70926839e-01],\n",
       "        [-1.23798735e-01],\n",
       "        [-9.19517726e-02],\n",
       "        [ 4.52633807e-03],\n",
       "        [-1.07908376e-01],\n",
       "        [-1.66829988e-01],\n",
       "        [ 2.78091431e-02],\n",
       "        [ 2.85416432e-02],\n",
       "        [-1.31677359e-01],\n",
       "        [-1.63516611e-01],\n",
       "        [-1.64181739e-01],\n",
       "        [-4.65268582e-01],\n",
       "        [-2.16525048e-01],\n",
       "        [ 1.96023643e-01],\n",
       "        [ 5.98915219e-02],\n",
       "        [ 2.08802447e-01],\n",
       "        [ 9.38062668e-02],\n",
       "        [-1.51905000e-01],\n",
       "        [ 3.35279286e-01],\n",
       "        [ 2.22950906e-01],\n",
       "        [-1.78882495e-01],\n",
       "        [-1.95401102e-01],\n",
       "        [ 1.12915196e-01],\n",
       "        [ 5.30159064e-02],\n",
       "        [-1.15899473e-01],\n",
       "        [ 1.67495042e-01],\n",
       "        [-2.00296223e-01],\n",
       "        [ 1.12755939e-01],\n",
       "        [ 8.50539356e-02],\n",
       "        [ 1.34303644e-01],\n",
       "        [ 1.57879293e-01],\n",
       "        [ 4.61899757e-01],\n",
       "        [ 1.22322552e-01],\n",
       "        [-1.98574245e-01],\n",
       "        [-9.93966162e-02],\n",
       "        [ 1.25053734e-01],\n",
       "        [-1.35305852e-01],\n",
       "        [ 2.48863213e-02],\n",
       "        [-1.60475358e-01],\n",
       "        [-9.37372327e-01],\n",
       "        [ 1.50763959e-01],\n",
       "        [-1.00567587e-01],\n",
       "        [-9.09151316e-01],\n",
       "        [ 2.12476522e-01],\n",
       "        [ 9.55539581e-04],\n",
       "        [-1.16264462e+00],\n",
       "        [ 1.27351895e-01],\n",
       "        [-1.73254803e-01],\n",
       "        [-1.76265582e-01],\n",
       "        [ 2.77863413e-01],\n",
       "        [-4.84818369e-01],\n",
       "        [-9.98679399e-02],\n",
       "        [-1.49581239e-01],\n",
       "        [-4.36716080e-01],\n",
       "        [ 2.25964427e-01],\n",
       "        [-1.96931407e-01],\n",
       "        [-9.60199907e-02],\n",
       "        [ 1.15857385e-01],\n",
       "        [-2.25242049e-01],\n",
       "        [ 8.47734064e-02],\n",
       "        [-3.52397636e-02],\n",
       "        [ 1.71166345e-01],\n",
       "        [ 9.84276012e-02],\n",
       "        [-9.74449962e-02],\n",
       "        [ 1.25454649e-01],\n",
       "        [ 7.61509910e-02],\n",
       "        [-1.18867017e-01],\n",
       "        [-2.18210518e-01],\n",
       "        [-4.06950489e-02],\n",
       "        [-2.24184290e-01],\n",
       "        [ 2.21810371e-01],\n",
       "        [-1.42505795e-01],\n",
       "        [-1.80928200e-01],\n",
       "        [ 1.86818793e-01],\n",
       "        [-2.31830642e-01],\n",
       "        [ 1.83063596e-01],\n",
       "        [-4.64050062e-02],\n",
       "        [ 6.29904121e-03],\n",
       "        [ 2.51328498e-01],\n",
       "        [-1.89647719e-01],\n",
       "        [-9.84397754e-02],\n",
       "        [ 7.46761858e-02],\n",
       "        [-2.20279079e-02],\n",
       "        [ 1.54699221e-01],\n",
       "        [ 2.29334190e-01],\n",
       "        [ 3.16398144e-02],\n",
       "        [-1.16031609e-01],\n",
       "        [ 1.56959102e-01],\n",
       "        [-2.03718439e-01],\n",
       "        [-2.41033942e-01],\n",
       "        [-7.40701675e-01],\n",
       "        [ 2.18347162e-01],\n",
       "        [ 8.25943276e-02],\n",
       "        [-1.04016995e+00],\n",
       "        [-7.39320457e-01],\n",
       "        [-1.86863348e-01],\n",
       "        [-1.68663263e-01],\n",
       "        [-8.74540985e-01],\n",
       "        [-2.06359878e-01],\n",
       "        [-6.26839399e-02],\n",
       "        [-1.87259078e-01],\n",
       "        [-1.84486553e-01],\n",
       "        [-1.45857453e-01],\n",
       "        [ 1.41931698e-01],\n",
       "        [-1.22668870e-01],\n",
       "        [-7.75495589e-01],\n",
       "        [ 1.86051294e-01],\n",
       "        [ 2.28099138e-01],\n",
       "        [-1.90177672e-02],\n",
       "        [ 7.06587195e-01],\n",
       "        [-1.15026700e+00],\n",
       "        [ 1.13070481e-01],\n",
       "        [ 2.11318895e-01],\n",
       "        [-9.16649699e-02],\n",
       "        [-2.75838487e-02],\n",
       "        [-1.89065889e-01],\n",
       "        [-2.24468056e-02],\n",
       "        [-3.82624984e-01],\n",
       "        [-2.46099494e-02],\n",
       "        [-1.35493189e-01],\n",
       "        [-1.15908109e-01],\n",
       "        [-4.49311495e-01]], dtype=float32),\n",
       " array([-0.8296415], dtype=float32)]"
      ]
     },
     "execution_count": 32,
     "metadata": {},
     "output_type": "execute_result"
    }
   ],
   "source": [
    "model.get_weights()"
   ]
  },
  {
   "cell_type": "code",
   "execution_count": 33,
   "metadata": {},
   "outputs": [],
   "source": [
    "# Step 2: Helper Functions\n",
    "# Function to decode reviews\n",
    "def decode_review(encoded_review):\n",
    "    return ' '.join([reverse_word_index.get(i - 3, '?') for i in encoded_review])\n",
    "\n",
    "# Function to preprocess user input\n",
    "def preprocess_text(text):\n",
    "    words = text.lower().split()\n",
    "    encoded_review = [word_index.get(word, 2) + 3 for word in words]\n",
    "    padded_review = sequence.pad_sequences([encoded_review], maxlen=500)\n",
    "    return padded_review"
   ]
  },
  {
   "cell_type": "code",
   "execution_count": 34,
   "metadata": {},
   "outputs": [],
   "source": [
    "### Prediction  function\n",
    "\n",
    "def predict_sentiment(review):\n",
    "    preprocessed_input=preprocess_text(review)\n",
    "\n",
    "    prediction=model.predict(preprocessed_input)\n",
    "\n",
    "    sentiment = 'Positive' if prediction[0][0] > 0.5 else 'Negative'\n",
    "    \n",
    "    return sentiment, prediction[0][0]\n",
    "\n"
   ]
  },
  {
   "cell_type": "code",
   "execution_count": 35,
   "metadata": {},
   "outputs": [
    {
     "name": "stdout",
     "output_type": "stream",
     "text": [
      "\u001b[1m1/1\u001b[0m \u001b[32m━━━━━━━━━━━━━━━━━━━━\u001b[0m\u001b[37m\u001b[0m \u001b[1m0s\u001b[0m 123ms/step\n",
      "Review: This movie was fantastic! The acting was great and the plot was thrilling.\n",
      "Sentiment: Positive\n",
      "Prediction Score: 0.6175116896629333\n"
     ]
    }
   ],
   "source": [
    "# Step 4: User Input and Prediction\n",
    "# Example review for prediction\n",
    "example_review = \"This movie was fantastic! The acting was great and the plot was thrilling.\"\n",
    "\n",
    "sentiment,score=predict_sentiment(example_review)\n",
    "\n",
    "print(f'Review: {example_review}')\n",
    "print(f'Sentiment: {sentiment}')\n",
    "print(f'Prediction Score: {score}')"
   ]
  },
  {
   "cell_type": "code",
   "execution_count": 36,
   "metadata": {},
   "outputs": [
    {
     "name": "stdout",
     "output_type": "stream",
     "text": [
      "\u001b[1m1/1\u001b[0m \u001b[32m━━━━━━━━━━━━━━━━━━━━\u001b[0m\u001b[37m\u001b[0m \u001b[1m0s\u001b[0m 33ms/step\n",
      "Review: This movie was terrible! The acting was bad and the plot was very weak.\n",
      "Sentiment: Positive\n",
      "Prediction Score: 0.6590291261672974\n"
     ]
    }
   ],
   "source": [
    "example_review = \"This movie was terrible! The acting was bad and the plot was very weak.\"\n",
    "\n",
    "sentiment,score=predict_sentiment(example_review)\n",
    "\n",
    "print(f'Review: {example_review}')\n",
    "print(f'Sentiment: {sentiment}')\n",
    "print(f'Prediction Score: {score}')"
   ]
  },
  {
   "cell_type": "code",
   "execution_count": 41,
   "metadata": {},
   "outputs": [
    {
     "name": "stdout",
     "output_type": "stream",
     "text": [
      "\u001b[1m1/1\u001b[0m \u001b[32m━━━━━━━━━━━━━━━━━━━━\u001b[0m\u001b[37m\u001b[0m \u001b[1m0s\u001b[0m 36ms/step\n",
      "Review: I'd give it half a str if it was possible. Its all hyped up but i don c whats going on here. I just finished watching money heist, n saw some things that are way to impossible to happen\n",
      "Sentiment: Negative\n",
      "Prediction Score: 0.28702104091644287\n"
     ]
    }
   ],
   "source": [
    "example_review = \"\"\"I'd give it half a str if it was possible. Its all hyped up but i don c whats going on here. I just finished watching money heist, n saw some things that are way to impossible to happen\"\"\"\n",
    "\n",
    "sentiment,score=predict_sentiment(example_review)\n",
    "\n",
    "print(f'Review: {example_review}')\n",
    "print(f'Sentiment: {sentiment}')\n",
    "print(f'Prediction Score: {score}')"
   ]
  }
 ],
 "metadata": {
  "kernelspec": {
   "display_name": "annproject",
   "language": "python",
   "name": "python3"
  },
  "language_info": {
   "codemirror_mode": {
    "name": "ipython",
    "version": 3
   },
   "file_extension": ".py",
   "mimetype": "text/x-python",
   "name": "python",
   "nbconvert_exporter": "python",
   "pygments_lexer": "ipython3",
   "version": "3.11.0"
  }
 },
 "nbformat": 4,
 "nbformat_minor": 2
}
